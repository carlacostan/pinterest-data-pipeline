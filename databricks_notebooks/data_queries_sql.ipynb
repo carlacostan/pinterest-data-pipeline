{
 "cells": [
  {
   "cell_type": "code",
   "execution_count": 0,
   "metadata": {
    "application/vnd.databricks.v1+cell": {
     "cellMetadata": {},
     "inputWidgets": {},
     "nuid": "c746e951-0836-42ec-8f98-4ecf613521da",
     "showTitle": false,
     "title": ""
    }
   },
   "outputs": [],
   "source": [
    "#Milestone 7 queries"
   ]
  },
  {
   "cell_type": "code",
   "execution_count": 0,
   "metadata": {
    "application/vnd.databricks.v1+cell": {
     "cellMetadata": {
      "byteLimit": 2048000,
      "rowLimit": 10000
     },
     "inputWidgets": {},
     "nuid": "5a08a991-5858-4784-97c6-5f40c2acbde3",
     "showTitle": false,
     "title": ""
    }
   },
   "outputs": [
    {
     "output_type": "display_data",
     "data": {
      "text/html": [
       "<style scoped>\n",
       "  .ansiout {\n",
       "    display: block;\n",
       "    unicode-bidi: embed;\n",
       "    white-space: pre-wrap;\n",
       "    word-wrap: break-word;\n",
       "    word-break: break-all;\n",
       "    font-family: \"Menlo\", \"Monaco\", \"Consolas\", \"Ubuntu Mono\", \"Source Code Pro\", monospace;\n",
       "    font-size: 13px;\n",
       "    color: #555;\n",
       "    margin-left: 4px;\n",
       "    line-height: 19px;\n",
       "  }\n",
       "</style>\n",
       "<div class=\"ansiout\"></div>"
      ]
     },
     "metadata": {
      "application/vnd.databricks.v1+output": {
       "addedWidgets": {},
       "arguments": {},
       "data": "<div class=\"ansiout\"></div>",
       "datasetInfos": [],
       "metadata": {},
       "removedWidgets": [],
       "type": "html"
      }
     },
     "output_type": "display_data"
    },
    {
     "output_type": "display_data",
     "data": {
      "text/html": [
       "<style scoped>\n",
       "  .ansiout {\n",
       "    display: block;\n",
       "    unicode-bidi: embed;\n",
       "    white-space: pre-wrap;\n",
       "    word-wrap: break-word;\n",
       "    word-break: break-all;\n",
       "    font-family: \"Menlo\", \"Monaco\", \"Consolas\", \"Ubuntu Mono\", \"Source Code Pro\", monospace;\n",
       "    font-size: 13px;\n",
       "    color: #555;\n",
       "    margin-left: 4px;\n",
       "    line-height: 19px;\n",
       "  }\n",
       "</style>"
      ]
     },
     "metadata": {
      "application/vnd.databricks.v1+output": {
       "arguments": {},
       "data": "",
       "errorSummary": "The execution of this command did not finish successfully",
       "errorTraceType": "html",
       "metadata": {},
       "type": "ipynbError"
      }
     },
     "output_type": "display_data"
    }
   ],
   "source": [
    "%run \"/Workspace/Users/carla.costan0@gmail.com/mount_S3\""
   ]
  },
  {
   "cell_type": "code",
   "execution_count": 0,
   "metadata": {
    "application/vnd.databricks.v1+cell": {
     "cellMetadata": {
      "byteLimit": 2048000,
      "rowLimit": 10000
     },
     "inputWidgets": {},
     "nuid": "6b8fd42d-ab3c-4fcc-b551-eb5c3341efd7",
     "showTitle": false,
     "title": ""
    }
   },
   "outputs": [
    {
     "output_type": "display_data",
     "data": {
      "text/html": [
       "<style scoped>\n",
       "  .ansiout {\n",
       "    display: block;\n",
       "    unicode-bidi: embed;\n",
       "    white-space: pre-wrap;\n",
       "    word-wrap: break-word;\n",
       "    word-break: break-all;\n",
       "    font-family: \"Menlo\", \"Monaco\", \"Consolas\", \"Ubuntu Mono\", \"Source Code Pro\", monospace;\n",
       "    font-size: 13px;\n",
       "    color: #555;\n",
       "    margin-left: 4px;\n",
       "    line-height: 19px;\n",
       "  }\n",
       "</style>\n",
       "<div class=\"ansiout\"></div>"
      ]
     },
     "metadata": {
      "application/vnd.databricks.v1+output": {
       "addedWidgets": {},
       "arguments": {},
       "data": "<div class=\"ansiout\"></div>",
       "datasetInfos": [],
       "metadata": {},
       "removedWidgets": [],
       "type": "html"
      }
     },
     "output_type": "display_data"
    }
   ],
   "source": [
    "# Load the Parquet files into DataFrames\n",
    "df_pin_cleaned = spark.read.parquet(f\"{mount_name}/df_pin_cleaned\")\n",
    "df_geo_cleaned = spark.read.parquet(f\"{mount_name}/df_geo_cleaned\")\n",
    "df_user_cleaned = spark.read.parquet(f\"{mount_name}/df_user_cleaned\")\n",
    "\n",
    "# Create temporary views from the DataFrames\n",
    "df_pin_cleaned.createOrReplaceTempView(\"df_pin_temp_view\")\n",
    "df_geo_cleaned.createOrReplaceTempView(\"df_geo_temp_view\")\n",
    "df_user_cleaned.createOrReplaceTempView(\"df_user_temp_view\")\n"
   ]
  },
  {
   "cell_type": "code",
   "execution_count": 0,
   "metadata": {
    "application/vnd.databricks.v1+cell": {
     "cellMetadata": {
      "byteLimit": 2048000,
      "rowLimit": 10000
     },
     "inputWidgets": {},
     "nuid": "2706eaf2-f023-4b83-b468-d6fa15cd6f55",
     "showTitle": false,
     "title": ""
    }
   },
   "outputs": [
    {
     "output_type": "display_data",
     "data": {
      "text/html": [
       "<style scoped>\n",
       "  .table-result-container {\n",
       "    max-height: 300px;\n",
       "    overflow: auto;\n",
       "  }\n",
       "  table, th, td {\n",
       "    border: 1px solid black;\n",
       "    border-collapse: collapse;\n",
       "  }\n",
       "  th, td {\n",
       "    padding: 5px;\n",
       "  }\n",
       "  th {\n",
       "    text-align: left;\n",
       "  }\n",
       "</style><div class='table-result-container'><table class='table-result'><thead style='background-color: white'><tr><th>country</th><th>category</th><th>category_count</th></tr></thead><tbody><tr><td>Albania</td><td>mens-fashion</td><td>1</td></tr><tr><td>Armenia</td><td>diy-and-crafts</td><td>1</td></tr><tr><td>Aruba</td><td>tattoos</td><td>1</td></tr><tr><td>Azerbaijan</td><td>event-planning</td><td>1</td></tr><tr><td>Bulgaria</td><td>finance</td><td>1</td></tr><tr><td>Cocos (Keeling) Islands</td><td>vehicles</td><td>1</td></tr><tr><td>Colombia</td><td>finance</td><td>1</td></tr><tr><td>Cote d'Ivoire</td><td>education</td><td>1</td></tr><tr><td>Cote d'Ivoire</td><td>diy-and-crafts</td><td>1</td></tr><tr><td>French Guiana</td><td>quotes</td><td>1</td></tr><tr><td>Maldives</td><td>beauty</td><td>1</td></tr></tbody></table></div>"
      ]
     },
     "metadata": {
      "application/vnd.databricks.v1+output": {
       "addedWidgets": {},
       "aggData": [],
       "aggError": "",
       "aggOverflow": false,
       "aggSchema": [],
       "aggSeriesLimitReached": false,
       "aggType": "",
       "arguments": {},
       "columnCustomDisplayInfos": {},
       "data": [
        [
         "Albania",
         "mens-fashion",
         1
        ],
        [
         "Armenia",
         "diy-and-crafts",
         1
        ],
        [
         "Aruba",
         "tattoos",
         1
        ],
        [
         "Azerbaijan",
         "event-planning",
         1
        ],
        [
         "Bulgaria",
         "finance",
         1
        ],
        [
         "Cocos (Keeling) Islands",
         "vehicles",
         1
        ],
        [
         "Colombia",
         "finance",
         1
        ],
        [
         "Cote d'Ivoire",
         "education",
         1
        ],
        [
         "Cote d'Ivoire",
         "diy-and-crafts",
         1
        ],
        [
         "French Guiana",
         "quotes",
         1
        ],
        [
         "Maldives",
         "beauty",
         1
        ]
       ],
       "datasetInfos": [],
       "dbfsResultPath": null,
       "isJsonSchema": true,
       "metadata": {},
       "overflow": false,
       "plotOptions": {
        "customPlotOptions": {},
        "displayType": "table",
        "pivotAggregation": null,
        "pivotColumns": null,
        "xColumns": null,
        "yColumns": null
       },
       "removedWidgets": [],
       "schema": [
        {
         "metadata": "{}",
         "name": "country",
         "type": "\"string\""
        },
        {
         "metadata": "{}",
         "name": "category",
         "type": "\"string\""
        },
        {
         "metadata": "{}",
         "name": "category_count",
         "type": "\"long\""
        }
       ],
       "type": "table"
      }
     },
     "output_type": "display_data"
    }
   ],
   "source": [
    "# Most popular category in each country\n",
    "\n",
    "most_popular_category_by_country = spark.sql(\"\"\"\n",
    "   SELECT geo.country, pin.category, COUNT(*) AS category_count\n",
    "   FROM df_geo_temp_view AS geo\n",
    "   JOIN df_pin_temp_view AS pin \n",
    "   ON geo.ind = pin.ind\n",
    "   GROUP BY geo.country, pin.category\n",
    "   ORDER BY geo.country, category_count DESC\n",
    "\"\"\")\n",
    "\n",
    "display(most_popular_category_by_country)"
   ]
  },
  {
   "cell_type": "code",
   "execution_count": 0,
   "metadata": {
    "application/vnd.databricks.v1+cell": {
     "cellMetadata": {
      "byteLimit": 2048000,
      "rowLimit": 10000
     },
     "inputWidgets": {},
     "nuid": "331113cc-e149-494d-a705-c65a475e5f9c",
     "showTitle": false,
     "title": ""
    }
   },
   "outputs": [
    {
     "output_type": "display_data",
     "data": {
      "text/html": [
       "<style scoped>\n",
       "  .table-result-container {\n",
       "    max-height: 300px;\n",
       "    overflow: auto;\n",
       "  }\n",
       "  table, th, td {\n",
       "    border: 1px solid black;\n",
       "    border-collapse: collapse;\n",
       "  }\n",
       "  th, td {\n",
       "    padding: 5px;\n",
       "  }\n",
       "  th {\n",
       "    text-align: left;\n",
       "  }\n",
       "</style><div class='table-result-container'><table class='table-result'><thead style='background-color: white'><tr><th>post_year</th><th>category</th><th>category_count</th></tr></thead><tbody><tr><td>2018</td><td>beauty</td><td>1</td></tr><tr><td>2019</td><td>diy-and-crafts</td><td>1</td></tr><tr><td>2019</td><td>education</td><td>1</td></tr><tr><td>2019</td><td>quotes</td><td>1</td></tr><tr><td>2020</td><td>diy-and-crafts</td><td>1</td></tr><tr><td>2020</td><td>mens-fashion</td><td>1</td></tr><tr><td>2020</td><td>tattoos</td><td>1</td></tr><tr><td>2021</td><td>finance</td><td>2</td></tr><tr><td>2021</td><td>event-planning</td><td>1</td></tr><tr><td>2022</td><td>vehicles</td><td>1</td></tr></tbody></table></div>"
      ]
     },
     "metadata": {
      "application/vnd.databricks.v1+output": {
       "addedWidgets": {},
       "aggData": [],
       "aggError": "",
       "aggOverflow": false,
       "aggSchema": [],
       "aggSeriesLimitReached": false,
       "aggType": "",
       "arguments": {},
       "columnCustomDisplayInfos": {},
       "data": [
        [
         2018,
         "beauty",
         1
        ],
        [
         2019,
         "diy-and-crafts",
         1
        ],
        [
         2019,
         "education",
         1
        ],
        [
         2019,
         "quotes",
         1
        ],
        [
         2020,
         "diy-and-crafts",
         1
        ],
        [
         2020,
         "mens-fashion",
         1
        ],
        [
         2020,
         "tattoos",
         1
        ],
        [
         2021,
         "finance",
         2
        ],
        [
         2021,
         "event-planning",
         1
        ],
        [
         2022,
         "vehicles",
         1
        ]
       ],
       "datasetInfos": [],
       "dbfsResultPath": null,
       "isJsonSchema": true,
       "metadata": {},
       "overflow": false,
       "plotOptions": {
        "customPlotOptions": {},
        "displayType": "table",
        "pivotAggregation": null,
        "pivotColumns": null,
        "xColumns": null,
        "yColumns": null
       },
       "removedWidgets": [],
       "schema": [
        {
         "metadata": "{}",
         "name": "post_year",
         "type": "\"integer\""
        },
        {
         "metadata": "{}",
         "name": "category",
         "type": "\"string\""
        },
        {
         "metadata": "{}",
         "name": "category_count",
         "type": "\"long\""
        }
       ],
       "type": "table"
      }
     },
     "output_type": "display_data"
    }
   ],
   "source": [
    "# Most popular category each year\n",
    "\n",
    "most_popular_category_by_year = spark.sql(\"\"\"\n",
    "    SELECT \n",
    "        YEAR(geo.timestamp) AS post_year, \n",
    "        pin.category, \n",
    "        COUNT(*) AS category_count\n",
    "    FROM df_pin_temp_view AS pin\n",
    "    JOIN df_geo_temp_view AS geo\n",
    "    ON pin.ind = geo.ind\n",
    "    WHERE YEAR(geo.timestamp) BETWEEN 2018 AND 2022\n",
    "    GROUP BY post_year, pin.category\n",
    "    ORDER BY post_year, category_count DESC\n",
    "\"\"\")\n",
    "\n",
    "display(most_popular_category_by_year)"
   ]
  },
  {
   "cell_type": "code",
   "execution_count": 0,
   "metadata": {
    "application/vnd.databricks.v1+cell": {
     "cellMetadata": {
      "byteLimit": 2048000,
      "rowLimit": 10000
     },
     "inputWidgets": {},
     "nuid": "07bfa43f-2896-44e1-85ea-466cd800819b",
     "showTitle": false,
     "title": ""
    }
   },
   "outputs": [
    {
     "output_type": "display_data",
     "data": {
      "text/html": [
       "<style scoped>\n",
       "  .table-result-container {\n",
       "    max-height: 300px;\n",
       "    overflow: auto;\n",
       "  }\n",
       "  table, th, td {\n",
       "    border: 1px solid black;\n",
       "    border-collapse: collapse;\n",
       "  }\n",
       "  th, td {\n",
       "    padding: 5px;\n",
       "  }\n",
       "  th {\n",
       "    text-align: left;\n",
       "  }\n",
       "</style><div class='table-result-container'><table class='table-result'><thead style='background-color: white'><tr><th>country</th><th>user_name</th><th>follower_count</th></tr></thead><tbody><tr><td>Albania</td><td>User Info Error</td><td>null</td></tr><tr><td>Armenia</td><td>Of Life & Lisa | Lifestyle Blog</td><td>124000.0</td></tr><tr><td>Aruba</td><td>TheTrendSpotter</td><td>211000.0</td></tr><tr><td>Azerbaijan</td><td>Style Me Pretty</td><td>6000000.0</td></tr><tr><td>Bulgaria</td><td>Living Low Key | Save Money, Make Money, & Frugal Living</td><td>26000.0</td></tr><tr><td>Cocos (Keeling) Islands</td><td>Ray Uyemura</td><td>437.0</td></tr><tr><td>Colombia</td><td>Consuelo Aguirre</td><td>0.0</td></tr><tr><td>Cote d'Ivoire</td><td>The Crafting Chicks</td><td>192000.0</td></tr><tr><td>Cote d'Ivoire</td><td>Math Giraffe</td><td>25000.0</td></tr><tr><td>French Guiana</td><td>Commitment Connection</td><td>51000.0</td></tr><tr><td>Maldives</td><td>Thrive Causemetics</td><td>43000.0</td></tr></tbody></table></div>"
      ]
     },
     "metadata": {
      "application/vnd.databricks.v1+output": {
       "addedWidgets": {},
       "aggData": [],
       "aggError": "",
       "aggOverflow": false,
       "aggSchema": [],
       "aggSeriesLimitReached": false,
       "aggType": "",
       "arguments": {},
       "columnCustomDisplayInfos": {},
       "data": [
        [
         "Albania",
         "User Info Error",
         null
        ],
        [
         "Armenia",
         "Of Life & Lisa | Lifestyle Blog",
         124000.0
        ],
        [
         "Aruba",
         "TheTrendSpotter",
         211000.0
        ],
        [
         "Azerbaijan",
         "Style Me Pretty",
         6000000.0
        ],
        [
         "Bulgaria",
         "Living Low Key | Save Money, Make Money, & Frugal Living",
         26000.0
        ],
        [
         "Cocos (Keeling) Islands",
         "Ray Uyemura",
         437.0
        ],
        [
         "Colombia",
         "Consuelo Aguirre",
         0.0
        ],
        [
         "Cote d'Ivoire",
         "The Crafting Chicks",
         192000.0
        ],
        [
         "Cote d'Ivoire",
         "Math Giraffe",
         25000.0
        ],
        [
         "French Guiana",
         "Commitment Connection",
         51000.0
        ],
        [
         "Maldives",
         "Thrive Causemetics",
         43000.0
        ]
       ],
       "datasetInfos": [],
       "dbfsResultPath": null,
       "isJsonSchema": true,
       "metadata": {},
       "overflow": false,
       "plotOptions": {
        "customPlotOptions": {},
        "displayType": "table",
        "pivotAggregation": null,
        "pivotColumns": null,
        "xColumns": null,
        "yColumns": null
       },
       "removedWidgets": [],
       "schema": [
        {
         "metadata": "{}",
         "name": "country",
         "type": "\"string\""
        },
        {
         "metadata": "{}",
         "name": "user_name",
         "type": "\"string\""
        },
        {
         "metadata": "{}",
         "name": "follower_count",
         "type": "\"float\""
        }
       ],
       "type": "table"
      }
     },
     "output_type": "display_data"
    }
   ],
   "source": [
    "# User with most followers in each country\n",
    "\n",
    "user_with_most_followers_by_country = spark.sql(\"\"\"\n",
    "    SELECT \n",
    "        geo.country,\n",
    "        pin.poster_name AS user_name,\n",
    "        MAX(pin.follower_count) AS follower_count\n",
    "    FROM df_pin_temp_view AS pin\n",
    "    JOIN df_geo_temp_view AS geo\n",
    "    ON pin.ind = geo.ind\n",
    "    GROUP BY geo.country, pin.poster_name\n",
    "    ORDER BY geo.country, follower_count DESC\n",
    "\"\"\")\n",
    "\n",
    "display(user_with_most_followers_by_country)"
   ]
  },
  {
   "cell_type": "code",
   "execution_count": 0,
   "metadata": {
    "application/vnd.databricks.v1+cell": {
     "cellMetadata": {
      "byteLimit": 2048000,
      "rowLimit": 10000
     },
     "inputWidgets": {},
     "nuid": "405939c2-e87b-43e4-85d4-52783b914c81",
     "showTitle": false,
     "title": ""
    }
   },
   "outputs": [
    {
     "output_type": "display_data",
     "data": {
      "text/html": [
       "<style scoped>\n",
       "  .table-result-container {\n",
       "    max-height: 300px;\n",
       "    overflow: auto;\n",
       "  }\n",
       "  table, th, td {\n",
       "    border: 1px solid black;\n",
       "    border-collapse: collapse;\n",
       "  }\n",
       "  th, td {\n",
       "    padding: 5px;\n",
       "  }\n",
       "  th {\n",
       "    text-align: left;\n",
       "  }\n",
       "</style><div class='table-result-container'><table class='table-result'><thead style='background-color: white'><tr><th>age_group</th><th>category</th><th>category_count</th></tr></thead><tbody><tr><td>18-24</td><td>tattoos</td><td>1</td></tr><tr><td>25-35</td><td>quotes</td><td>1</td></tr><tr><td>25-35</td><td>event-planning</td><td>1</td></tr><tr><td>36-50</td><td>education</td><td>1</td></tr><tr><td>25-35</td><td>finance</td><td>1</td></tr><tr><td>25-35</td><td>vehicles</td><td>1</td></tr><tr><td>25-35</td><td>diy-and-crafts</td><td>1</td></tr><tr><td>25-35</td><td>beauty</td><td>1</td></tr><tr><td>18-24</td><td>mens-fashion</td><td>1</td></tr><tr><td>36-50</td><td>finance</td><td>1</td></tr></tbody></table></div>"
      ]
     },
     "metadata": {
      "application/vnd.databricks.v1+output": {
       "addedWidgets": {},
       "aggData": [],
       "aggError": "",
       "aggOverflow": false,
       "aggSchema": [],
       "aggSeriesLimitReached": false,
       "aggType": "",
       "arguments": {},
       "columnCustomDisplayInfos": {},
       "data": [
        [
         "18-24",
         "tattoos",
         1
        ],
        [
         "25-35",
         "quotes",
         1
        ],
        [
         "25-35",
         "event-planning",
         1
        ],
        [
         "36-50",
         "education",
         1
        ],
        [
         "25-35",
         "finance",
         1
        ],
        [
         "25-35",
         "vehicles",
         1
        ],
        [
         "25-35",
         "diy-and-crafts",
         1
        ],
        [
         "25-35",
         "beauty",
         1
        ],
        [
         "18-24",
         "mens-fashion",
         1
        ],
        [
         "36-50",
         "finance",
         1
        ]
       ],
       "datasetInfos": [],
       "dbfsResultPath": null,
       "isJsonSchema": true,
       "metadata": {},
       "overflow": false,
       "plotOptions": {
        "customPlotOptions": {},
        "displayType": "table",
        "pivotAggregation": null,
        "pivotColumns": null,
        "xColumns": null,
        "yColumns": null
       },
       "removedWidgets": [],
       "schema": [
        {
         "metadata": "{}",
         "name": "age_group",
         "type": "\"string\""
        },
        {
         "metadata": "{}",
         "name": "category",
         "type": "\"string\""
        },
        {
         "metadata": "{}",
         "name": "category_count",
         "type": "\"long\""
        }
       ],
       "type": "table"
      }
     },
     "output_type": "display_data"
    }
   ],
   "source": [
    "# Most popular category for different age groups\n",
    "\n",
    "most_popular_category_by_age_group = spark.sql(\"\"\"\n",
    "    WITH AgeGroups AS (\n",
    "        SELECT\n",
    "            user.age,\n",
    "            pin.category,\n",
    "            CASE \n",
    "                WHEN user.age BETWEEN 18 AND 24 THEN '18-24'\n",
    "                WHEN user.age BETWEEN 25 AND 35 THEN '25-35'\n",
    "                WHEN user.age BETWEEN 36 AND 50 THEN '36-50'\n",
    "                WHEN user.age > 50 THEN '50+'\n",
    "                ELSE 'Unknown'\n",
    "            END AS age_group\n",
    "        FROM df_pin_temp_view AS pin\n",
    "        JOIN df_user_temp_view AS user\n",
    "        ON pin.ind = user.ind\n",
    "    ),\n",
    "    CategoryCount AS (\n",
    "        SELECT\n",
    "            age_group,\n",
    "            category,\n",
    "            COUNT(*) AS category_count\n",
    "        FROM AgeGroups\n",
    "        WHERE age_group != 'Unknown'\n",
    "        GROUP BY age_group, category\n",
    "    )\n",
    "    \n",
    "    SELECT\n",
    "        age_group,\n",
    "        category,\n",
    "        MAX(category_count) AS category_count\n",
    "    FROM CategoryCount\n",
    "    GROUP BY age_group, category\n",
    "\"\"\")\n",
    "\n",
    "display(most_popular_category_by_age_group)"
   ]
  },
  {
   "cell_type": "code",
   "execution_count": 0,
   "metadata": {
    "application/vnd.databricks.v1+cell": {
     "cellMetadata": {
      "byteLimit": 2048000,
      "rowLimit": 10000
     },
     "inputWidgets": {},
     "nuid": "0d335f53-9453-43b1-9e9d-5fbd21b00a8b",
     "showTitle": false,
     "title": ""
    }
   },
   "outputs": [
    {
     "output_type": "display_data",
     "data": {
      "text/html": [
       "<style scoped>\n",
       "  .table-result-container {\n",
       "    max-height: 300px;\n",
       "    overflow: auto;\n",
       "  }\n",
       "  table, th, td {\n",
       "    border: 1px solid black;\n",
       "    border-collapse: collapse;\n",
       "  }\n",
       "  th, td {\n",
       "    padding: 5px;\n",
       "  }\n",
       "  th {\n",
       "    text-align: left;\n",
       "  }\n",
       "</style><div class='table-result-container'><table class='table-result'><thead style='background-color: white'><tr><th>age_group</th><th>median_follower_count</th></tr></thead><tbody><tr><td>18-24</td><td>211000.0</td></tr><tr><td>25-35</td><td>43000.0</td></tr><tr><td>36-50</td><td>0.0</td></tr></tbody></table></div>"
      ]
     },
     "metadata": {
      "application/vnd.databricks.v1+output": {
       "addedWidgets": {},
       "aggData": [],
       "aggError": "",
       "aggOverflow": false,
       "aggSchema": [],
       "aggSeriesLimitReached": false,
       "aggType": "",
       "arguments": {},
       "columnCustomDisplayInfos": {},
       "data": [
        [
         "18-24",
         211000.0
        ],
        [
         "25-35",
         43000.0
        ],
        [
         "36-50",
         0.0
        ]
       ],
       "datasetInfos": [],
       "dbfsResultPath": null,
       "isJsonSchema": true,
       "metadata": {},
       "overflow": false,
       "plotOptions": {
        "customPlotOptions": {},
        "displayType": "table",
        "pivotAggregation": null,
        "pivotColumns": null,
        "xColumns": null,
        "yColumns": null
       },
       "removedWidgets": [],
       "schema": [
        {
         "metadata": "{}",
         "name": "age_group",
         "type": "\"string\""
        },
        {
         "metadata": "{}",
         "name": "median_follower_count",
         "type": "\"float\""
        }
       ],
       "type": "table"
      }
     },
     "output_type": "display_data"
    }
   ],
   "source": [
    "#  Median follower count by age group\n",
    "\n",
    "median_follower_count_by_age_group = spark.sql(\"\"\"\n",
    "    WITH AgeGroups AS (\n",
    "        SELECT\n",
    "            pin.follower_count,\n",
    "            CASE \n",
    "                WHEN user.age BETWEEN 18 AND 24 THEN '18-24'\n",
    "                WHEN user.age BETWEEN 25 AND 35 THEN '25-35'\n",
    "                WHEN user.age BETWEEN 36 AND 50 THEN '36-50'\n",
    "                WHEN user.age > 50 THEN '50+'\n",
    "                ELSE 'Unknown'\n",
    "            END AS age_group\n",
    "        FROM df_pin_temp_view AS pin\n",
    "        JOIN df_user_temp_view AS user\n",
    "        ON pin.ind = user.ind\n",
    "        WHERE pin.follower_count IS NOT NULL AND user.age IS NOT NULL\n",
    "    )\n",
    "    \n",
    "    SELECT\n",
    "        age_group,\n",
    "        PERCENTILE_APPROX(follower_count, 0.5) AS median_follower_count\n",
    "    FROM AgeGroups\n",
    "    GROUP BY age_group\n",
    "    ORDER BY age_group\n",
    "\"\"\")\n",
    "\n",
    "display(median_follower_count_by_age_group)"
   ]
  },
  {
   "cell_type": "code",
   "execution_count": 0,
   "metadata": {
    "application/vnd.databricks.v1+cell": {
     "cellMetadata": {},
     "inputWidgets": {},
     "nuid": "63fd115a-2342-4855-977a-4fefa829d1a0",
     "showTitle": false,
     "title": ""
    }
   },
   "outputs": [],
   "source": [
    "# Amount of new users each year\n",
    "\n",
    "new_users_each_year = spark.sql(\"\"\"\n",
    "    SELECT \n",
    "        YEAR(user.date_joined) AS join_year,\n",
    "        COUNT(*) AS new_user_count\n",
    "    FROM df_user_temp_view AS user\n",
    "    WHERE YEAR(user.date_joined) IS NOT NULL\n",
    "    GROUP BY join_year\n",
    "    ORDER BY join_year\n",
    "\"\"\")\n",
    "\n",
    "display(new_users_each_year)"
   ]
  },
  {
   "cell_type": "code",
   "execution_count": 0,
   "metadata": {
    "application/vnd.databricks.v1+cell": {
     "cellMetadata": {},
     "inputWidgets": {},
     "nuid": "dbde2cbf-fe86-4d9f-9163-5610bd0665f1",
     "showTitle": false,
     "title": ""
    }
   },
   "outputs": [],
   "source": [
    "# Median follower count of users based on their joining year\n",
    "\n",
    "median_follower_count_by_join_year = spark.sql(\"\"\"\n",
    "    SELECT \n",
    "        YEAR(user.date_joined) AS join_year,\n",
    "        PERCENTILE_APPROX(pin.follower_count, 0.5) AS median_follower_count\n",
    "    FROM df_pin_temp_view AS pin\n",
    "    JOIN df_user_temp_view AS user\n",
    "    ON pin.ind = user.ind\n",
    "    WHERE YEAR(user.date_joined) IS NOT NULL AND pin.follower_count IS NOT NULL\n",
    "    GROUP BY join_year\n",
    "    ORDER BY join_year\n",
    "\"\"\")\n",
    "\n",
    "display(median_follower_count_by_join_year)"
   ]
  },
  {
   "cell_type": "code",
   "execution_count": 0,
   "metadata": {
    "application/vnd.databricks.v1+cell": {
     "cellMetadata": {},
     "inputWidgets": {},
     "nuid": "f92dedf3-12ba-40fc-9885-5386619a06ea",
     "showTitle": false,
     "title": ""
    }
   },
   "outputs": [],
   "source": [
    "# Median follower count of users based on their joining year and age group\n",
    "\n",
    "median_follower_count_by_join_year_and_age_group = spark.sql(\"\"\"\n",
    "    WITH AgeGroups AS (\n",
    "        SELECT\n",
    "            YEAR(user.date_joined) AS join_year,\n",
    "            pin.follower_count,\n",
    "            CASE \n",
    "                WHEN user.age BETWEEN 18 AND 24 THEN '18-24'\n",
    "                WHEN user.age BETWEEN 25 AND 35 THEN '25-35'\n",
    "                WHEN user.age BETWEEN 36 AND 50 THEN '36-50'\n",
    "                WHEN user.age > 50 THEN '50+'\n",
    "                ELSE 'Unknown'\n",
    "            END AS age_group\n",
    "        FROM df_pin_temp_view AS pin\n",
    "        JOIN df_user_temp_view AS user\n",
    "        ON pin.ind = user.ind\n",
    "        WHERE YEAR(user.date_joined) IS NOT NULL AND pin.follower_count IS NOT NULL AND user.age IS NOT NULL\n",
    "    )\n",
    "    \n",
    "    SELECT\n",
    "        join_year,\n",
    "        age_group,\n",
    "        PERCENTILE_CONT(0.5) WITHIN GROUP (ORDER BY follower_count) AS median_follower_count\n",
    "    FROM AgeGroups\n",
    "    GROUP BY join_year, age_group\n",
    "    ORDER BY join_year, age_group\n",
    "\"\"\")\n",
    "\n",
    "display(median_follower_count_by_join_year_and_age_group)"
   ]
  }
 ],
 "metadata": {
  "application/vnd.databricks.v1+notebook": {
   "dashboards": [],
   "environmentMetadata": null,
   "language": "python",
   "notebookMetadata": {
    "pythonIndentUnit": 4
   },
   "notebookName": "data_queries_sql",
   "widgets": {}
  }
 },
 "nbformat": 4,
 "nbformat_minor": 0
}
